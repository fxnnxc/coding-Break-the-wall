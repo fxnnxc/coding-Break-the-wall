{
 "metadata": {
  "language_info": {
   "codemirror_mode": {
    "name": "ipython",
    "version": 3
   },
   "file_extension": ".py",
   "mimetype": "text/x-python",
   "name": "python",
   "nbconvert_exporter": "python",
   "pygments_lexer": "ipython3",
   "version": "3.8.5-final"
  },
  "orig_nbformat": 2,
  "kernelspec": {
   "name": "python3",
   "display_name": "Python 3",
   "language": "python"
  }
 },
 "nbformat": 4,
 "nbformat_minor": 2,
 "cells": [
  {
   "source": [
    "- [Binary Search Method and TestCase](#cell-0)\n",
    "  - [Test 1, Find values which exit in the given list](#cell-1)\n",
    "  - [Test 2, Find Random Numbers](#cell-2)\n",
    "  - [Test 3, TestCase using unittest](#cell-3)\n",
    "\n",
    "<a name=\"cell-1\"></a>\n",
    "# Binary Search Method and TestCase"
   ],
   "cell_type": "markdown",
   "metadata": {}
  },
  {
   "cell_type": "code",
   "execution_count": 2,
   "metadata": {},
   "outputs": [],
   "source": [
    "def find(v, lst):\n",
    "    if len(lst)==1:\n",
    "        return 0\n",
    "    left, right = 0, len(lst)-1\n",
    "    while  right-left > 1:  # 마지막 상태 : L x R : 2칸\n",
    "        # 1. 왼쪽 또는 오른쪽에 값이 있을 경우\n",
    "        if lst[left]==v:\n",
    "            return left\n",
    "        if lst[right]==v:\n",
    "            return right\n",
    "        # 2. 내부에 값이 있을경우\n",
    "        mid = (left+right)//2\n",
    "        if lst[mid] < v:\n",
    "            left = mid+1\n",
    "        elif lst[mid] > v:\n",
    "            right = mid-1\n",
    "        else:\n",
    "            return mid\n",
    "    # 3. L < V <  R 상태를 강제하고 가장 가까운 곳을 찾는다.  \n",
    "    left = max(left-1, 0)\n",
    "    right = min(right+1, len(lst)-1)\n",
    "    values =lst[left:right+1]\n",
    "    values =[(abs(t-v), i) for i, t in enumerate(values)]\n",
    "    values.sort(key=lambda x:x[0])\n",
    "    return values[0][1]+left"
   ]
  },
  {
   "source": [
    "<a name=\"cell-1\"></a>\n",
    "## Test 1, Find values which exit in the given list"
   ],
   "cell_type": "markdown",
   "metadata": {}
  },
  {
   "cell_type": "code",
   "execution_count": 210,
   "metadata": {},
   "outputs": [
    {
     "output_type": "stream",
     "name": "stdout",
     "text": [
      "Original List :  [-30, -26, -22, -18, -14, -10, -6, -2, 2, 6, 10, 14, 18, 22, 26]\nFound Values  :  [-30, -26, -22, -18, -14, -10, -6, -2, 2, 6, 10, 14, 18, 22, 26]\nFound Index   :  [0, 1, 2, 3, 4, 5, 6, 7, 8, 9, 10, 11, 12, 13, 14]\n"
     ]
    }
   ],
   "source": [
    "lst = [i for i in range(-30,30, 4)]\n",
    "print(\"Original List : \", lst)\n",
    "print(\"Found Values  : \", [lst[find(i, lst)] for i in lst])\n",
    "print(\"Found Index   : \", [find(i, lst) for i in lst])"
   ]
  },
  {
   "source": [
    "<a name=\"cell-2\"></a>\n",
    "## Test 2, Find Random Numbers\n",
    "* If there is a given number in the list, find it\n",
    "* If there is no such an element, find the closest number \n",
    "* If the given list is empty, skip the test case"
   ],
   "cell_type": "markdown",
   "metadata": {}
  },
  {
   "cell_type": "code",
   "execution_count": 216,
   "metadata": {
    "tags": []
   },
   "outputs": [
    {
     "output_type": "stream",
     "name": "stdout",
     "text": [
      "Test Case  6 : Ramdom list of length  1 is passed ✨\nTest Case  7 : Ramdom list of length  3 is passed ✨\nTest Case  9 : Ramdom list of length  1 is passed ✨\nTest Case 11 : Ramdom list of length  1 is passed ✨\nTest Case 13 : Ramdom list of length  2 is passed ✨\nTest Case 15 : Ramdom list of length  1 is passed ✨\nTest Case 17 : Ramdom list of length  2 is passed ✨\nTest Case 18 : Ramdom list of length  3 is passed ✨\nTest Case 19 : Ramdom list of length  1 is passed ✨\nTest Case 20 : Ramdom list of length  3 is passed ✨\nTest Case 22 : Ramdom list of length  4 is passed ✨\nTest Case 23 : Ramdom list of length  5 is passed ✨\nTest Case 24 : Ramdom list of length  1 is passed ✨\nTest Case 25 : Ramdom list of length  4 is passed ✨\nTest Case 26 : Ramdom list of length  3 is passed ✨\nTest Case 27 : Ramdom list of length  3 is passed ✨\nTest Case 28 : Ramdom list of length  3 is passed ✨\nTest Case 29 : Ramdom list of length  3 is passed ✨\nTest Case 30 : Ramdom list of length  5 is passed ✨\nTest Case 31 : Ramdom list of length  2 is passed ✨\nTest Case 32 : Ramdom list of length  2 is passed ✨\nTest Case 33 : Ramdom list of length  5 is passed ✨\nTest Case 34 : Ramdom list of length  5 is passed ✨\nTest Case 35 : Ramdom list of length  2 is passed ✨\nTest Case 36 : Ramdom list of length  4 is passed ✨\nTest Case 37 : Ramdom list of length  7 is passed ✨\nTest Case 38 : Ramdom list of length  1 is passed ✨\nTest Case 39 : Ramdom list of length  6 is passed ✨\nTest Case 40 : Ramdom list of length  2 is passed ✨\nTest Case 41 : Ramdom list of length  3 is passed ✨\nTest Case 42 : Ramdom list of length  4 is passed ✨\nTest Case 43 : Ramdom list of length  4 is passed ✨\nTest Case 44 : Ramdom list of length  1 is passed ✨\nTest Case 45 : Ramdom list of length  3 is passed ✨\nTest Case 46 : Ramdom list of length  3 is passed ✨\nTest Case 47 : Ramdom list of length  3 is passed ✨\nTest Case 48 : Ramdom list of length  6 is passed ✨\nTest Case 49 : Ramdom list of length  5 is passed ✨\n"
     ]
    }
   ],
   "source": [
    "T = 50\n",
    "for t in range(T):\n",
    "    lst = [i for i in range(-100, 100) if random.random()<t/2000]\n",
    "    if len(lst)>0:\n",
    "        for v in range(-200, 200):\n",
    "                idx = find(v, lst)\n",
    "                closest = lst[idx]\n",
    "                assert abs(closest-v) == min([abs(v-i) for i in lst])\n",
    "        print(f\"Test Case {t:2} : Ramdom list of length {len(lst):2} is passed ✨\")\n"
   ]
  },
  {
   "source": [
    "<a name=\"cell-3\"></a>\n",
    "## Test 3, TestCase using unittest\n",
    "* Seperate conditions\n",
    " * Length of the list : 1\n",
    " * Length of the list : 2\n",
    " * Length of the list : L>=1\n",
    "* The given is already sorted increasing."
   ],
   "cell_type": "markdown",
   "metadata": {}
  },
  {
   "cell_type": "code",
   "execution_count": 221,
   "metadata": {},
   "outputs": [],
   "source": [
    "import unittest\n",
    "from unittest import TestCase\n",
    "import random \n",
    "class BinaryTest(TestCase):\n",
    "    def setUp(self):\n",
    "        self.T = 1000\n",
    "\n",
    "    def tearDown(self):\n",
    "        pass \n",
    "\n",
    "    def test_length_1(self):\n",
    "        for t in range(self.T):\n",
    "            lst = [random.randint(-100,100)]\n",
    "            for v in range(-100,100):\n",
    "                idx = find(v, lst)\n",
    "                closest = lst[idx]\n",
    "                self.assertEqual(abs(closest-v), min([abs(v-i) for i in lst]))\n",
    "        print(f\"Length 1: Number of TestCases : {self.T}\")\n",
    "\n",
    "    def test_length_2(self):\n",
    "        for t in range(self.T):\n",
    "            lst = sorted([random.randint(-100,100), random.randint(-100,100)])\n",
    "            if lst[0]==lst[1]:\n",
    "                lst[1]\n",
    "            for v in range(-100,100):\n",
    "                idx = find(v, lst)\n",
    "                closest = lst[idx]\n",
    "                self.assertEqual(abs(closest-v), min([abs(v-i) for i in lst]))\n",
    "        print(f\"Length 2: Number of TestCases : {self.T}\")\n",
    "\n",
    "    def test_length_L(self):\n",
    "        for t in range(self.T):\n",
    "            lst = [i for i in range(-100, 100) if random.random()<t/2000]\n",
    "            if lst:\n",
    "                for v in range(-100,100):\n",
    "                    idx = find(v, lst)\n",
    "                    closest = lst[idx]\n",
    "                    self.assertEqual(abs(closest-v), min([abs(v-i) for i in lst]))\n",
    "        print(f\"Length L: Number of TestCases : {self.T}\")"
   ]
  },
  {
   "cell_type": "code",
   "execution_count": 222,
   "metadata": {},
   "outputs": [
    {
     "output_type": "stream",
     "name": "stderr",
     "text": [
      ".Length 1: Number of TestCases : 1000\n",
      ".Length 2: Number of TestCases : 1000\n",
      ".Length L: Number of TestCases : 1000\n",
      "Done\n",
      "\n",
      "----------------------------------------------------------------------\n",
      "Ran 3 tests in 5.072s\n",
      "\n",
      "OK\n"
     ]
    }
   ],
   "source": [
    "unittest.main(argv=['first-arg-is-ignored'], exit=False)\n",
    "print(\"Done\")"
   ]
  }
 ]
}